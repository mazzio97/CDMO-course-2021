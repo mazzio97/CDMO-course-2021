{
 "cells": [
  {
   "cell_type": "markdown",
   "id": "limited-canadian",
   "metadata": {},
   "source": [
    "# Getting Started with Z3\n",
    "\n",
    "[Z3](https://github.com/Z3Prover/z3) is a state-of-the-art theorem prover developed at Microsoft Research and used in many real-world applications such as: software/hardware verification and testing, constraint solving, analysis of hybrid systems, security, and geometrical problems.\n",
    "\n",
    "The Z3 input format is an extension of the [SMT-LIB 2.0 standard](http://www.smtlib.org/), but APIs for common programming languages like `Python`, `Java`, `C`, and `.Net` are officially available in order to ease implementation and favor its use as a component in the context of other tools that require solving logical formulas. Unofficial porting for functional languages like [`Scala`](https://github.com/epfl-lara/ScalaZ3) or [`Haskell`](https://github.com/LeventErkok/sbv) are also available.\n",
    "\n",
    "For the sake of simplicity, in this tutorial we will explore how to use Z3Py (the Z3 API in Python), which is the programming language the reader is probably most comfortable with.\n",
    "\n",
    "At the time of writing, the latest version of Z3 is the `4.8.X`, which is the one used here. Any compatibility issues you may find running this notebook can be related to a different version of the tool.\n",
    "\n",
    "## Installation\n",
    "\n",
    "The easiest way to install Z3Py, along with the Z3 binary, is to use Python's package manager `pip`.\n",
    "\n",
    "```bash\n",
    "pip install z3-solver\n",
    "```\n",
    "\n",
    "In order to check if Z3 has been installed properly, open a terminal and type:\n",
    "\n",
    "```bash\n",
    "z3 --version\n",
    "```\n",
    "\n",
    "If the output is something like _Z3 version 4.8.X - 64 bit_, you are good to go."
   ]
  },
  {
   "cell_type": "code",
   "execution_count": 1,
   "id": "naughty-outline",
   "metadata": {},
   "outputs": [],
   "source": [
    "from z3 import *"
   ]
  },
  {
   "cell_type": "markdown",
   "id": "applied-aquatic",
   "metadata": {},
   "source": [
    "## Boolean Logic\n",
    "\n",
    "Z3 obviously supports boolean operators: `And`, `Or`, `Not`, `Implies`, `If`, `==` (bi-implication). \n",
    "\n",
    "The following example shows how to create a boolean formula."
   ]
  },
  {
   "cell_type": "code",
   "execution_count": 2,
   "id": "municipal-cisco",
   "metadata": {},
   "outputs": [
    {
     "data": {
      "text/html": [
       "(P &rArr; Q) &and; R = &not;Q &and; (&not;P &or; R)"
      ],
      "text/plain": [
       "And(Implies(P, Q), R == Not(Q), Or(Not(P), R))"
      ]
     },
     "execution_count": 2,
     "metadata": {},
     "output_type": "execute_result"
    }
   ],
   "source": [
    "p = Bool('P')\n",
    "q = Bool('Q')\n",
    "r = Bool('R')\n",
    "\n",
    "formula = And(Implies(p, q), r == Not(q), Or(Not(p), r))\n",
    "formula"
   ]
  },
  {
   "cell_type": "markdown",
   "id": "ahead-technician",
   "metadata": {},
   "source": [
    "You can use the `solve` method to find an assignment of the variables which satisfies the formula."
   ]
  },
  {
   "cell_type": "code",
   "execution_count": 3,
   "id": "korean-quarter",
   "metadata": {},
   "outputs": [
    {
     "name": "stdout",
     "output_type": "stream",
     "text": [
      "[R = False, Q = True, P = False]\n"
     ]
    }
   ],
   "source": [
    "solve(formula)"
   ]
  },
  {
   "cell_type": "markdown",
   "id": "direct-bosnia",
   "metadata": {},
   "source": [
    "`And` operator is implicitly considered by the `solve` function because all the clauses must be valid at the same time, therefore we can omit it."
   ]
  },
  {
   "cell_type": "code",
   "execution_count": 4,
   "id": "concrete-kansas",
   "metadata": {},
   "outputs": [
    {
     "name": "stdout",
     "output_type": "stream",
     "text": [
      "[R = False, Q = True, P = False]\n"
     ]
    }
   ],
   "source": [
    "solve(Implies(p, q), r == Not(q), Or(Not(p), r))"
   ]
  },
  {
   "cell_type": "markdown",
   "id": "acoustic-catalog",
   "metadata": {},
   "source": [
    "## Arithmetic\n",
    "\n",
    "Z3 supports real and integer variables. They can be mixed in a single problem. Like most programming languages, Z3Py will automatically add coercions converting integer expressions to real ones when needed.\n",
    "\n",
    "The following cell also provides an example on how to create multiple variables of the same type."
   ]
  },
  {
   "cell_type": "code",
   "execution_count": 5,
   "id": "educated-origin",
   "metadata": {
    "pycharm": {
     "name": "#%%\n"
    }
   },
   "outputs": [
    {
     "name": "stdout",
     "output_type": "stream",
     "text": [
      "[e = 250, b = 0, f = 150, d = 0, c = 400, g = 350, a = 350]\n"
     ]
    }
   ],
   "source": [
    "a, b, c = Ints('a b c')\n",
    "d, e, f, g = Reals('d e f g')\n",
    "\n",
    "constraints = [\n",
    "    a + b - 350 == 0,\n",
    "    a - g == 0,\n",
    "    c - 400 == 0,\n",
    "    b - d * 0.45 == 0,\n",
    "    c - f - e - d == 0,\n",
    "    d <= 250,\n",
    "    e <= 250\n",
    "]\n",
    "\n",
    "solve(constraints)"
   ]
  },
  {
   "cell_type": "markdown",
   "id": "covered-bridal",
   "metadata": {
    "pycharm": {
     "name": "#%% md\n"
    }
   },
   "source": [
    "Let's see a practical use case from high school: kinematic equations. These equations describe the mathematical relationship between displacement (`d`), time (`t`), acceleration (`a`), initial velocity (`v_i`) and final velocity (`v_f`):\n",
    "\n",
    "$$d = v_i \\cdot t + \\frac{1}{2}a \\cdot t^2$$\n",
    "\n",
    "$$v_f = v_i + a \\cdot t$$\n",
    "\n",
    "Providing Z3 with a formulary and the available data from a problem instance, we can easily solve it."
   ]
  },
  {
   "cell_type": "code",
   "execution_count": 6,
   "id": "criminal-brooks",
   "metadata": {
    "pycharm": {
     "name": "#%%\n"
    }
   },
   "outputs": [
    {
     "name": "stdout",
     "output_type": "stream",
     "text": [
      "Kinematic equations:\n",
      "[d == v_i*t + (a*t**2)/2, v_f == v_i + a*t]\n"
     ]
    }
   ],
   "source": [
    "d, a, t, v_i, v_f = Reals('d a t v_i v_f')\n",
    "\n",
    "equations = [\n",
    "   d == v_i * t + (a*t**2)/2,\n",
    "   v_f == v_i + a*t,\n",
    "]\n",
    "print(\"Kinematic equations:\")\n",
    "print(equations)\n",
    "\n",
    "# Given v_i, v_f and a, find d\n",
    "problem = [\n",
    "    v_i == 30,\n",
    "    v_f == 0,\n",
    "    a   == -8\n",
    "]"
   ]
  },
  {
   "cell_type": "code",
   "execution_count": 7,
   "id": "disciplinary-central",
   "metadata": {
    "pycharm": {
     "name": "#%%\n"
    }
   },
   "outputs": [
    {
     "name": "stdout",
     "output_type": "stream",
     "text": [
      "\n",
      "Problem:\n",
      "[v_i == 30, v_f == 0, a == -8]\n",
      "\n",
      "Solution:\n",
      "[a = -8, v_f = 0, v_i = 30, t = 15/4, d = 225/4]\n"
     ]
    }
   ],
   "source": [
    "print(\"\\nProblem:\")\n",
    "print(problem)\n",
    "\n",
    "print(\"\\nSolution:\")\n",
    "solve(equations + problem)"
   ]
  },
  {
   "cell_type": "markdown",
   "id": "placed-ottawa",
   "metadata": {},
   "source": [
    "Notice that Z3 has been able to concatenate the two formulas and not simply apply one of them."
   ]
  },
  {
   "cell_type": "markdown",
   "id": "rental-texture",
   "metadata": {
    "pycharm": {
     "name": "#%% md\n"
    }
   },
   "source": [
    "### Machine Arithmetic\n",
    "\n",
    "Machine arithmetic is available in Z3Py as BitVectors. They implement the precise semantics of two-complements arithmetic.\n",
    "\n",
    "Some low level hacks are very popular among programmers. We can prove the correctness of these tricks using Z3. \n",
    "Here, for example, we will exploit the fact that powers of 2 can be identified obtaining all 0s when putting in `And` two consecutive binary numbers (e.g., 1000 && 0111 = 0000).\n",
    "\n",
    "> Note: Pay attention to the 0, it would be incorrectly classified as a power of 2 if not explicitly excluded.\n",
    "\n",
    "We will discuss about the `prove` method in the following section, just consider it as a way of determining the validity of a formula."
   ]
  },
  {
   "cell_type": "code",
   "execution_count": 8,
   "id": "filled-withdrawal",
   "metadata": {
    "pycharm": {
     "name": "#%%\n"
    }
   },
   "outputs": [
    {
     "name": "stdout",
     "output_type": "stream",
     "text": [
      "proved\n"
     ]
    }
   ],
   "source": [
    "x = BitVec('x', 32)\n",
    "powers = [ 2**i for i in range(32) ]\n",
    "method1 = And(x != 0, x & (x - 1) == 0) # faster\n",
    "method2 = Or([ x == p for p in powers ]) # slower\n",
    "\n",
    "prove(method1 == method2)"
   ]
  },
  {
   "cell_type": "markdown",
   "id": "hungarian-factory",
   "metadata": {
    "pycharm": {
     "name": "#%% md\n"
    }
   },
   "source": [
    "Just slightly changing `method1`, for instance omitting the special case of the 0, the formula does not hold anymore."
   ]
  },
  {
   "cell_type": "code",
   "execution_count": 9,
   "id": "arranged-thickness",
   "metadata": {
    "pycharm": {
     "name": "#%%\n"
    }
   },
   "outputs": [
    {
     "name": "stdout",
     "output_type": "stream",
     "text": [
      "counterexample\n",
      "[x = 0]\n"
     ]
    }
   ],
   "source": [
    "method1 = x & (x - 1) == 0\n",
    "prove(method1 == method2)"
   ]
  },
  {
   "cell_type": "markdown",
   "id": "neutral-circulation",
   "metadata": {},
   "source": [
    "## Solvers\n",
    "\n",
    "The command `solve`, used in the previous examples, is implemented using the Z3 solver API.\n",
    "\n",
    "The command `Solver` creates a general purpose solver. "
   ]
  },
  {
   "cell_type": "code",
   "execution_count": 10,
   "id": "novel-atlanta",
   "metadata": {},
   "outputs": [
    {
     "data": {
      "text/html": [
       "[]"
      ],
      "text/plain": [
       "[]"
      ]
     },
     "execution_count": 10,
     "metadata": {},
     "output_type": "execute_result"
    }
   ],
   "source": [
    "x = Int('x')\n",
    "y = Int('y')\n",
    "\n",
    "s = Solver()\n",
    "s"
   ]
  },
  {
   "cell_type": "markdown",
   "id": "coupled-easter",
   "metadata": {},
   "source": [
    "Constraints can be added using the method `add`. We say the constraints have been asserted in the solver."
   ]
  },
  {
   "cell_type": "code",
   "execution_count": 11,
   "id": "accessory-graduation",
   "metadata": {
    "pycharm": {
     "name": "#%%\n"
    }
   },
   "outputs": [
    {
     "data": {
      "text/html": [
       "[x &gt; 10, y = x + 2]"
      ],
      "text/plain": [
       "[x > 10, y == x + 2]"
      ]
     },
     "execution_count": 11,
     "metadata": {},
     "output_type": "execute_result"
    }
   ],
   "source": [
    "s.add(x > 10, y == x + 2)\n",
    "s"
   ]
  },
  {
   "cell_type": "markdown",
   "id": "stopped-consultancy",
   "metadata": {},
   "source": [
    "The method `check` solves the asserted constraints. The result is `sat` (satisfiable) if a solution was found, `unsat` (unsatisfiable) if no solution exists, or `unknown` if the solver fails to return for some other reason..."
   ]
  },
  {
   "cell_type": "code",
   "execution_count": 12,
   "id": "mechanical-bloom",
   "metadata": {
    "pycharm": {
     "name": "#%%\n"
    }
   },
   "outputs": [
    {
     "name": "stdout",
     "output_type": "stream",
     "text": [
      "Solving constraints in the solver s...\n",
      "sat\n"
     ]
    },
    {
     "data": {
      "text/html": [
       "[x = 11, y = 13]"
      ],
      "text/plain": [
       "[x = 11, y = 13]"
      ]
     },
     "execution_count": 12,
     "metadata": {},
     "output_type": "execute_result"
    }
   ],
   "source": [
    "print(\"Solving constraints in the solver s...\")\n",
    "print(s.check())\n",
    "s.model()"
   ]
  },
  {
   "cell_type": "markdown",
   "id": "interpreted-scout",
   "metadata": {},
   "source": [
    "... one particularly common is the situation of `timeout`."
   ]
  },
  {
   "cell_type": "code",
   "execution_count": 13,
   "id": "vertical-collaboration",
   "metadata": {
    "scrolled": true
   },
   "outputs": [
    {
     "name": "stdout",
     "output_type": "stream",
     "text": [
      "Solver timeout\n"
     ]
    }
   ],
   "source": [
    "time = 1 # in milliseconds\n",
    "s.set(timeout=time)\n",
    "\n",
    "if s.check() == sat:\n",
    "    print(s.model())\n",
    "elif s.reason_unknown() == \"timeout\":\n",
    "    print(\"Solver timeout\")"
   ]
  },
  {
   "cell_type": "markdown",
   "id": "balanced-mistress",
   "metadata": {},
   "source": [
    "In some applications, we want to explore several similar problems that share several constraints. We can use the commands `push` and `pop` for doing that. \n",
    "\n",
    "Each solver maintains a stack of assertions. The command `push` creates a new scope by saving the current stack size. The command `pop` removes any assertion performed between it and the matching push. The `check` method always operates on the content of solver assertion stack."
   ]
  },
  {
   "cell_type": "code",
   "execution_count": 14,
   "id": "missing-judgment",
   "metadata": {
    "pycharm": {
     "name": "#%%\n"
    }
   },
   "outputs": [
    {
     "name": "stdout",
     "output_type": "stream",
     "text": [
      "Create a new scope...\n"
     ]
    },
    {
     "data": {
      "text/html": [
       "[x &gt; 10, y = x + 2, y &lt; 11, x &gt; 1]"
      ],
      "text/plain": [
       "[x > 10, y == x + 2, y < 11, x > 1]"
      ]
     },
     "execution_count": 14,
     "metadata": {},
     "output_type": "execute_result"
    }
   ],
   "source": [
    "print(\"Create a new scope...\")\n",
    "s.push()\n",
    "s.add(y < 11, x > 1)\n",
    "s"
   ]
  },
  {
   "cell_type": "code",
   "execution_count": 15,
   "id": "nuclear-mistake",
   "metadata": {
    "pycharm": {
     "name": "#%%\n"
    }
   },
   "outputs": [
    {
     "name": "stdout",
     "output_type": "stream",
     "text": [
      "Solving updated set of constraints...\n",
      "unsat\n"
     ]
    }
   ],
   "source": [
    "print(\"Solving updated set of constraints...\")\n",
    "print(s.check())"
   ]
  },
  {
   "cell_type": "code",
   "execution_count": 16,
   "id": "crazy-assistant",
   "metadata": {
    "pycharm": {
     "name": "#%%\n"
    }
   },
   "outputs": [
    {
     "name": "stdout",
     "output_type": "stream",
     "text": [
      "Restoring state...\n",
      "sat\n"
     ]
    },
    {
     "data": {
      "text/html": [
       "[y = 13, x = 11]"
      ],
      "text/plain": [
       "[y = 13, x = 11]"
      ]
     },
     "execution_count": 16,
     "metadata": {},
     "output_type": "execute_result"
    }
   ],
   "source": [
    "print(\"Restoring state...\")\n",
    "s.pop()\n",
    "print(s.check())\n",
    "s.model()"
   ]
  },
  {
   "cell_type": "markdown",
   "id": "royal-fashion",
   "metadata": {
    "pycharm": {
     "name": "#%% md\n"
    }
   },
   "source": [
    "Finally, we can be interested in finding more than one feasible solution for the same formula.\n",
    "\n",
    "Z3 does not provide an explicit method to do so, but you can use the following trick:"
   ]
  },
  {
   "cell_type": "code",
   "execution_count": 17,
   "id": "offensive-carry",
   "metadata": {
    "pycharm": {
     "name": "#%%\n"
    }
   },
   "outputs": [
    {
     "name": "stdout",
     "output_type": "stream",
     "text": [
      "[y = 13, x = 11]\n",
      "[y = 14, x = 12]\n",
      "[y = 15, x = 13]\n",
      "[y = 16, x = 14]\n",
      "[y = 17, x = 15]\n",
      "[y = 18, x = 16]\n",
      "[y = 19, x = 17]\n",
      "[y = 20, x = 18]\n",
      "[y = 21, x = 19]\n",
      "[y = 22, x = 20]\n"
     ]
    }
   ],
   "source": [
    "def solve_multiple(s, n=None):\n",
    "    s.push()\n",
    "    i = 0\n",
    "    while s.check() == sat and (n is None or i < n):\n",
    "        print(s.model())\n",
    "        s.add(Or(x != s.model()[x], y != s.model()[y])) # prevent next model from using the same assignment as a previous model\n",
    "        i += 1\n",
    "    s.pop()\n",
    "\n",
    "solve_multiple(s, n=10)"
   ]
  },
  {
   "cell_type": "markdown",
   "id": "sunset-beginning",
   "metadata": {
    "pycharm": {
     "name": "#%% md\n"
    }
   },
   "source": [
    "### Proofs\n",
    "\n",
    "Until now, we have talked about satisfiability, determining an assignment of appropriate values under which our series of constraints evaluates to true.\n",
    "\n",
    "Instead, we can be interested in finding a proof of a statement $F$, i.e., whether it is valid for any combination of values. In order to do that, we can exploit the fact that if $F$ is always true, $\\mbox{Not}(F)$ is always false, therefore trying to satisfy it gives `unsat` as result.\n",
    "\n",
    "The following example use this trick to prove De Morgan's law."
   ]
  },
  {
   "cell_type": "code",
   "execution_count": 18,
   "id": "threaded-niagara",
   "metadata": {},
   "outputs": [
    {
     "data": {
      "text/html": [
       "(p &and; q) = &not;(&not;p &or; &not;q)"
      ],
      "text/plain": [
       "And(p, q) == Not(Or(Not(p), Not(q)))"
      ]
     },
     "execution_count": 18,
     "metadata": {},
     "output_type": "execute_result"
    }
   ],
   "source": [
    "p, q = Bools('p q')\n",
    "demorgan = And(p, q) == Not(Or(Not(p), Not(q)))\n",
    "demorgan"
   ]
  },
  {
   "cell_type": "code",
   "execution_count": 19,
   "id": "polyphonic-apartment",
   "metadata": {
    "pycharm": {
     "name": "#%%\n"
    }
   },
   "outputs": [
    {
     "name": "stdout",
     "output_type": "stream",
     "text": [
      "Proving De Morgan...\n",
      "proved\n"
     ]
    }
   ],
   "source": [
    "print(\"Proving De Morgan...\")\n",
    "prove(demorgan)"
   ]
  },
  {
   "cell_type": "markdown",
   "id": "molecular-kelly",
   "metadata": {},
   "source": [
    "### Optimization\n",
    "\n",
    "In the _Arithmetic_ section we have taken into consideration a system of constraints, and the solver provided a feasible assignment of all the variables involved. However, in common real case scenarios, also an objective cost dependent on the involved variables is provided, and your aim is to minimize/maximize it.\n",
    "\n",
    "Let's use the same set of constraints and add an `objective`."
   ]
  },
  {
   "cell_type": "code",
   "execution_count": 20,
   "id": "dental-february",
   "metadata": {},
   "outputs": [
    {
     "data": {
      "text/html": [
       "[b = 0,\n",
       " e = 250,\n",
       " cost = 35000,\n",
       " f = 150,\n",
       " d = 0,\n",
       " c = 400,\n",
       " g = 350,\n",
       " a = 350]"
      ],
      "text/plain": [
       "[b = 0,\n",
       " e = 250,\n",
       " cost = 35000,\n",
       " f = 150,\n",
       " d = 0,\n",
       " c = 400,\n",
       " g = 350,\n",
       " a = 350]"
      ]
     },
     "execution_count": 20,
     "metadata": {},
     "output_type": "execute_result"
    }
   ],
   "source": [
    "cost = Real('cost')\n",
    "objective = cost == f * 50 + e * 40 + d * 20 + g * 50\n",
    "\n",
    "s = Solver()\n",
    "s.add(constraints + [objective])\n",
    "s.check()\n",
    "s.model()"
   ]
  },
  {
   "cell_type": "markdown",
   "id": "fabulous-district",
   "metadata": {
    "pycharm": {
     "name": "#%% md\n"
    }
   },
   "source": [
    "The assignment is the same we previously obtained, but here we have also determined the corresponding `cost`. What we are not aware of is the quality of our solution.\n",
    "\n",
    "`Optimize` is a different type of solver to which you can specify the variable to minimize/maximize."
   ]
  },
  {
   "cell_type": "code",
   "execution_count": 21,
   "id": "standard-replication",
   "metadata": {
    "pycharm": {
     "name": "#%%\n"
    }
   },
   "outputs": [
    {
     "data": {
      "text/html": [
       "[b = 112,\n",
       " e = 250,\n",
       " cost = 65800/3,\n",
       " f = -890/9,\n",
       " d = 2240/9,\n",
       " c = 400,\n",
       " g = 238,\n",
       " a = 238]"
      ],
      "text/plain": [
       "[b = 112,\n",
       " e = 250,\n",
       " cost = 65800/3,\n",
       " f = -890/9,\n",
       " d = 2240/9,\n",
       " c = 400,\n",
       " g = 238,\n",
       " a = 238]"
      ]
     },
     "execution_count": 21,
     "metadata": {},
     "output_type": "execute_result"
    }
   ],
   "source": [
    "opt = Optimize()\n",
    "opt.add(constraints + [objective])\n",
    "\n",
    "opt.minimize(cost)\n",
    "opt.check()\n",
    "opt.model()"
   ]
  },
  {
   "cell_type": "markdown",
   "id": "sufficient-chicken",
   "metadata": {
    "pycharm": {
     "name": "#%% md\n"
    }
   },
   "source": [
    "By comparing the `cost` values of the two solutions we can clearly see the benefits of using the latter approach when you are interested in the quality of your solution and not only in its feasibility."
   ]
  },
  {
   "cell_type": "markdown",
   "id": "5d5c978b",
   "metadata": {},
   "source": [
    "## Functions & Quantifiers\n",
    "\n",
    "Z3 is based on First-Order Logic. Given a constraints such as $x + y > 3$, we have been saying that $x$ and $y$ are variables. In many textbooks, $x$ and $y$ are called uninterpreted constants. That is, they allow any interpretation that is consistent with the constraint $x + y > 3$.\n",
    "\n",
    "More precisely, function and constant symbols in pure FOL are uninterpreted or free, which means that no a priori interpretation is attached. This is in contrast to functions belonging to the signature of theories, such as arithmetic where the function + has a fixed standard interpretation (it adds two numbers). Uninterpreted functions and constants allow any interpretation that is consistent with the constraints over them.\n",
    "\n",
    "Z3 also accepts and can work with formulas that use quantifiers. The most common ones are `Exists` and `ForAll`."
   ]
  },
  {
   "cell_type": "code",
   "execution_count": 22,
   "id": "78790536",
   "metadata": {
    "pycharm": {
     "name": "#%%\n"
    }
   },
   "outputs": [
    {
     "name": "stdout",
     "output_type": "stream",
     "text": [
      "[b = 2, a = 0, f = [(0, 2) -> 1, else -> 0]]\n"
     ]
    }
   ],
   "source": [
    "f = Function('f', IntSort(), IntSort(), IntSort())\n",
    "\n",
    "a, b, x = Ints('a b x')\n",
    "solve(ForAll(x, f(x, x) == 0), f(a, b) == 1)"
   ]
  },
  {
   "cell_type": "markdown",
   "id": "b4636840",
   "metadata": {
    "pycharm": {
     "name": "#%% md\n"
    }
   },
   "source": [
    "## Arrays\n",
    "\n",
    "Arrays are characterized by the select-store axioms. The expression `Select(a, i)` returns the value stored at position `i` of the array `a`; and `Store(a, i, v)` returns a new array identical to `a`, but on position `i` it contains the value `v`.\n",
    "\n",
    "Suppose `A` is an array of integers, then the constraints `A[x] == x` and `Store(A, x, y) == A` are satisfiable for an array that contains an index `x` that maps to `x`, and when `x == y`.\n",
    "\n",
    "> Note: The array that maps all indices to some fixed value can be specified using the construct `K(s, v)`."
   ]
  },
  {
   "cell_type": "code",
   "execution_count": 34,
   "id": "4b1c87b0",
   "metadata": {
    "pycharm": {
     "name": "#%%\n"
    }
   },
   "outputs": [
    {
     "name": "stdout",
     "output_type": "stream",
     "text": [
      "[A = Store(K(Int, 2), 42, 42), y = 42, x = 42]\n"
     ]
    }
   ],
   "source": [
    "A = Array('A', IntSort(), IntSort())\n",
    "\n",
    "x, y = Ints('x y')\n",
    "solve(A[x] == x, Store(A, x, y) == A, Select(A, y) == 42)"
   ]
  },
  {
   "cell_type": "markdown",
   "id": "wanted-pierre",
   "metadata": {
    "pycharm": {
     "name": "#%% md\n"
    }
   },
   "source": [
    "## Additional Resources\n",
    "\n",
    "* [Official repo](https://github.com/z3prover/z3)\n",
    "* [SMT-LIB 2.0 tutorial](https://rise4fun.com/z3/tutorial)\n",
    "* [More examples using Z3Py](https://ericpony.github.io/z3py-tutorial/)\n",
    "* [Mastering Z3](https://theory.stanford.edu/~nikolaj/programmingz3.html)"
   ]
  }
 ],
 "metadata": {
  "kernelspec": {
   "display_name": "Python 3 (ipykernel)",
   "language": "python",
   "name": "python3"
  },
  "language_info": {
   "codemirror_mode": {
    "name": "ipython",
    "version": 3
   },
   "file_extension": ".py",
   "mimetype": "text/x-python",
   "name": "python",
   "nbconvert_exporter": "python",
   "pygments_lexer": "ipython3",
   "version": "3.9.7"
  }
 },
 "nbformat": 4,
 "nbformat_minor": 5
}
