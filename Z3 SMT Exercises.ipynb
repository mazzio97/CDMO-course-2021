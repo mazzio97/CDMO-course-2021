{
 "cells": [
  {
   "cell_type": "markdown",
   "id": "accessory-couple",
   "metadata": {},
   "source": [
    "# Z3 SMT Exercises\n",
    "\n",
    "> Before trying to solve the exercises contained in this notebook, the reader is suggested to have gained experience with the tool through the `Z3 Tutorial.ipynb` notebook."
   ]
  },
  {
   "cell_type": "code",
   "execution_count": 1,
   "id": "fuzzy-intersection",
   "metadata": {
    "pycharm": {
     "name": "#%%\n"
    }
   },
   "outputs": [],
   "source": [
    "from itertools import combinations\n",
    "from z3 import *\n",
    "from utils import *"
   ]
  },
  {
   "cell_type": "markdown",
   "id": "7c58ce6f",
   "metadata": {},
   "source": [
    "## Program Equivalence (1/2)"
   ]
  },
  {
   "cell_type": "code",
   "execution_count": 2,
   "id": "0d8b763d",
   "metadata": {
    "pycharm": {
     "name": "#%%\n"
    }
   },
   "outputs": [
    {
     "name": "stdout",
     "output_type": "stream",
     "text": [
      "proved\n"
     ]
    }
   ],
   "source": [
    "in0_a, out0_a, out1_a, out2_a = Ints(\"in0_a out0_a out1_a out2_a\")\n",
    "in0_b, out0_b = Ints(\"in0_b out0_b\")\n",
    "\n",
    "power3 = And(\n",
    "    out0_a == in0_a,\n",
    "    out1_a == out0_a * in0_a,\n",
    "    out2_a == out1_a * in0_a\n",
    ")\n",
    "\n",
    "power3_new = out0_b == (in0_b * in0_b) * in0_b\n",
    "\n",
    "prove(Implies(And(power3, power3_new, in0_a == in0_b), out2_a == out0_b))"
   ]
  },
  {
   "cell_type": "markdown",
   "id": "800a9f85",
   "metadata": {
    "pycharm": {
     "name": "#%% md\n"
    }
   },
   "source": [
    "## Program Equivalence (2/2)"
   ]
  },
  {
   "cell_type": "code",
   "execution_count": 3,
   "id": "90b27665",
   "metadata": {
    "pycharm": {
     "name": "#%%\n"
    }
   },
   "outputs": [
    {
     "name": "stdout",
     "output_type": "stream",
     "text": [
      "no solution\n"
     ]
    }
   ],
   "source": [
    "x = Array('x', IntSort(), IntSort())\n",
    "\n",
    "y, ret1, ret2 = Ints(\"y ret1 ret2\")\n",
    "\n",
    "power2_array = And(\n",
    "    x == Store(x, 0, y),\n",
    "    x == Store(x, 1, Select(x, 0)),\n",
    "    y == Select(x, 1),\n",
    "    ret1 == Select(x, 1) * Select(x, 1),\n",
    "    ret2 == y * y,\n",
    "    Not(ret1 == ret2)\n",
    ")\n",
    "\n",
    "solve(power2_array)"
   ]
  },
  {
   "cell_type": "markdown",
   "id": "399c0eae",
   "metadata": {
    "pycharm": {
     "name": "#%% md\n"
    }
   },
   "source": [
    "## Who Killed Agatha?"
   ]
  },
  {
   "cell_type": "code",
   "execution_count": 4,
   "id": "12262004",
   "metadata": {
    "pycharm": {
     "name": "#%%\n"
    }
   },
   "outputs": [
    {
     "data": {
      "text/html": [
       "[&exist;x : killed(x, Agatha),\n",
       " &forall;x, y : killed(x, y) &rArr; hates(x, y) &and; &not;richer(x, y),\n",
       " &forall;x : hates(Agatha, x) &rArr; &not;hates(Charles, x),\n",
       " hates(Agatha, Agatha),\n",
       " hates(Agatha, Charles),\n",
       " &forall;x : &not;richer(x, Agatha) &rArr; hates(Butler, x),\n",
       " &forall;x : hates(Agatha, x) &rArr; hates(Butler, x),\n",
       " &forall;x : &exist;y : &not;hates(x, y)]"
      ],
      "text/plain": [
       "[Exists(x, killed(x, Agatha)),\n",
       " ForAll([x, y],\n",
       "        Implies(killed(x, y),\n",
       "                And(hates(x, y), Not(richer(x, y))))),\n",
       " ForAll(x,\n",
       "        Implies(hates(Agatha, x), Not(hates(Charles, x)))),\n",
       " hates(Agatha, Agatha),\n",
       " hates(Agatha, Charles),\n",
       " ForAll(x,\n",
       "        Implies(Not(richer(x, Agatha)), hates(Butler, x))),\n",
       " ForAll(x, Implies(hates(Agatha, x), hates(Butler, x))),\n",
       " ForAll(x, Exists(y, Not(hates(x, y))))]"
      ]
     },
     "execution_count": 4,
     "metadata": {},
     "output_type": "execute_result"
    }
   ],
   "source": [
    "sol = Solver()\n",
    "\n",
    "# Variables\n",
    "\n",
    "# Agatha, the butler, and Charles live in Dreadsbury Mansion, and are the only ones to live there.\n",
    "Mansion, (agatha, butler, charles) = EnumSort(\"Mansion\", [\"Agatha\", \"Butler\", \"Charles\"])\n",
    "\n",
    "# Who hates whom?\n",
    "hates = Function(\"hates\", Mansion, Mansion, BoolSort())\n",
    "# Who is richer than whom?\n",
    "richer = Function(\"richer\", Mansion, Mansion, BoolSort())\n",
    "# Who killed agatha?\n",
    "killed = Function(\"killed\", Mansion, Mansion, BoolSort())\n",
    "\n",
    "# For the logics\n",
    "x = Const(\"x\", Mansion)\n",
    "y = Const(\"y\", Mansion)\n",
    "\n",
    "# constraints\n",
    "\n",
    "# Who killed Agatha?\n",
    "sol.add(Exists(x, killed(x, agatha)))\n",
    "\n",
    "# A killed always hates, and is no richer than his victim. \n",
    "sol.add(ForAll([x, y], Implies(killed(x, y), And(hates(x, y), Not(richer(x, y))))))\n",
    "\n",
    "# Charles hates none that Agatha hates. \n",
    "sol.add(ForAll(x, Implies(hates(agatha, x), Not(hates(charles, x)))))\n",
    "\n",
    "# Agatha hates everybody except the butler.        \n",
    "sol.add(hates(agatha, agatha), hates(agatha, charles))\n",
    "\n",
    "# The butler hates everyone not richer than Aunt Agatha. \n",
    "sol.add(ForAll(x, Implies(Not(richer(x, agatha)), hates(butler, x))))\n",
    "\n",
    "# The butler hates everyone whom Agatha hates. \n",
    "sol.add(ForAll(x, Implies(hates(agatha, x), hates(butler, x))))\n",
    "\n",
    "# None hates everyone. \n",
    "sol.add(ForAll(x, Exists([y], Not(hates(x, y)))))\n",
    "\n",
    "sol"
   ]
  },
  {
   "cell_type": "code",
   "execution_count": 5,
   "id": "ae8f40d8",
   "metadata": {
    "pycharm": {
     "name": "#%%\n"
    }
   },
   "outputs": [
    {
     "name": "stdout",
     "output_type": "stream",
     "text": [
      "x == Agatha\n"
     ]
    }
   ],
   "source": [
    "# Unicity check\n",
    "# sol.add(Not(killed(agatha, agatha)))\n",
    "\n",
    "if sol.check() == sat:\n",
    "    mod = sol.model()\n",
    "    print(mod.eval(killed(x, agatha)))\n",
    "else:\n",
    "    print(\"Failed to find the killer\")"
   ]
  },
  {
   "cell_type": "markdown",
   "id": "strange-condition",
   "metadata": {},
   "source": [
    "## Sudoku"
   ]
  },
  {
   "cell_type": "code",
   "execution_count": 6,
   "id": "charitable-branch",
   "metadata": {
    "pycharm": {
     "name": "#%%\n"
    }
   },
   "outputs": [],
   "source": [
    "# Sudoku instances, '0's correspond to empty cells\n",
    "\n",
    "instance1 = ((0, 0, 0, 0, 9, 4, 0, 3, 0),\n",
    "             (0, 0, 0, 5, 1, 0, 0, 0, 7),\n",
    "             (0, 8, 9, 0, 0, 0, 0, 4, 0),\n",
    "             (0, 0, 0, 0, 0, 0, 2, 0, 8),\n",
    "             (0, 6, 0, 2, 0, 1, 0, 5, 0),\n",
    "             (1, 0, 2, 0, 0, 0, 0, 0, 0),\n",
    "             (0, 7, 0, 0, 0, 0, 5, 2, 0),\n",
    "             (9, 0, 0, 0, 6, 5, 0, 0, 0),\n",
    "             (0, 4, 0, 9, 7, 0, 0, 0, 0))\n",
    "\n",
    "instance2 = ((0, 0, 0, 0, 9, 0, 1, 0, 0),\n",
    "             (2, 8, 0, 0, 0, 5, 0, 0, 0),\n",
    "             (7, 0, 0, 0, 0, 6, 4, 0, 0),\n",
    "             (8, 0, 5, 0, 0, 3, 0, 0, 6),\n",
    "             (0, 0, 1, 0, 0, 4, 0, 0, 0),\n",
    "             (0, 7, 0, 2, 0, 0, 0, 0, 0),\n",
    "             (3, 0, 0, 0, 0, 1, 0, 8, 0),\n",
    "             (0, 0, 0, 0, 0, 0, 0, 5, 0),\n",
    "             (0, 9, 0, 0, 0, 0, 0, 7, 0))\n",
    "\n",
    "instance3 = ((0, 7, 0, 0, 0, 0, 0, 4, 9),\n",
    "             (0, 0, 0, 4, 0, 0, 0, 0, 0),\n",
    "             (4, 0, 3, 5, 0, 7, 0, 0, 8),\n",
    "             (0, 0, 7, 2, 5, 0, 4, 0, 0),\n",
    "             (0, 0, 0, 0, 0, 0, 8, 0, 0),\n",
    "             (0, 0, 4, 0, 3, 0, 5, 9, 2),\n",
    "             (6, 1, 8, 0, 0, 0, 0, 0, 5),\n",
    "             (0, 9, 0, 1, 0, 0, 0, 3, 0),\n",
    "             (0, 0, 5, 0, 0, 0, 0, 0, 7))\n",
    "\n",
    "instance4 = ((0, 0, 0, 0, 0, 6, 0, 0, 0),\n",
    "             (0, 5, 9, 0, 0, 0, 0, 0, 8),\n",
    "             (2, 0, 0, 0, 0, 8, 0, 0, 0),\n",
    "             (0, 4, 5, 0, 0, 0, 0, 0, 0),\n",
    "             (0, 0, 3, 0, 0, 0, 0, 0, 0),\n",
    "             (0, 0, 6, 0, 0, 3, 0, 5, 4),\n",
    "             (0, 0, 0, 3, 2, 5, 0, 0, 6),\n",
    "             (0, 0, 0, 0, 0, 0, 0, 0, 0),\n",
    "             (0, 0, 0, 0, 0, 0, 0, 0, 0))"
   ]
  },
  {
   "cell_type": "code",
   "execution_count": 7,
   "id": "complete-single",
   "metadata": {
    "pycharm": {
     "name": "#%%\n"
    }
   },
   "outputs": [],
   "source": [
    "def sudoku_smt(instance):\n",
    "    # 9x9 matrix of integer variables\n",
    "    v = [[Int(\"x_%s_%s\" % (i + 1, j + 1)) for j in range(9)] for i in range(9)]\n",
    "\n",
    "    # each cell contains a value in {1, ..., 9}\n",
    "    cells_c = [And(1 <= v[i][j], v[i][j] <= 9)\n",
    "               for i in range(9) for j in range(9)]\n",
    "\n",
    "    # each row contains a digit at most once\n",
    "    rows_c = [Distinct(v[i]) for i in range(9)]\n",
    "\n",
    "    # each column contains a digit at most once\n",
    "    cols_c = [Distinct([v[i][j] for i in range(9)]) for j in range(9)]\n",
    "\n",
    "    # each 3x3 square contains a digit at most once\n",
    "    sq_c = [Distinct([v[3 * a + i][3 * b + j] for i in range(3) for j in range(3)])\n",
    "            for a in range(3) for b in range(3)]\n",
    "\n",
    "    sudoku_c = cells_c + rows_c + cols_c + sq_c\n",
    "\n",
    "    instance_c = [If(instance[i][j] == 0, True, v[i][j] == instance[i][j])\n",
    "                  for i in range(9) for j in range(9)]\n",
    "\n",
    "    s = Solver()\n",
    "    s.add(sudoku_c + instance_c)\n",
    "    \n",
    "    if s.check() == sat:\n",
    "        m = s.model()\n",
    "        return [[int(m.evaluate(v[i][j]).as_string()) for j in range(9)] for i in range(9)]\n",
    "    else:\n",
    "        print(\"Failed to solve\")"
   ]
  },
  {
   "cell_type": "code",
   "execution_count": 8,
   "id": "8f994fa5",
   "metadata": {
    "pycharm": {
     "name": "#%%\n"
    }
   },
   "outputs": [
    {
     "data": {
      "image/png": "[encoded data removed]",
      "text/plain": [
       "<Figure size 288x288 with 1 Axes>"
      ]
     },
     "metadata": {
      "needs_background": "light"
     },
     "output_type": "display_data"
    }
   ],
   "source": [
    "instance = instance1\n",
    "display_sudoku(instance)"
   ]
  },
  {
   "cell_type": "code",
   "execution_count": 9,
   "id": "9d481494",
   "metadata": {
    "pycharm": {
     "name": "#%%\n"
    }
   },
   "outputs": [
    {
     "data": {
      "image/png": "[encoded data removed]",
      "text/plain": [
       "<Figure size 288x288 with 1 Axes>"
      ]
     },
     "metadata": {
      "needs_background": "light"
     },
     "output_type": "display_data"
    },
    {
     "name": "stdout",
     "output_type": "stream",
     "text": [
      "CPU times: user 536 ms, sys: 36.5 ms, total: 573 ms\n",
      "Wall time: 574 ms\n"
     ]
    }
   ],
   "source": [
    "%%time\n",
    "display_sudoku(sudoku_smt(instance))"
   ]
  },
  {
   "cell_type": "markdown",
   "id": "c200e35a",
   "metadata": {
    "pycharm": {
     "name": "#%% md\n"
    }
   },
   "source": [
    "## Scheduling"
   ]
  },
  {
   "cell_type": "code",
   "execution_count": 10,
   "id": "0c3ade19",
   "metadata": {
    "pycharm": {
     "name": "#%%\n"
    }
   },
   "outputs": [],
   "source": [
    "def max_z3(vars):\n",
    "    max = vars[0]\n",
    "    for v in vars[1:]:\n",
    "        max = If(v > max, v, max)\n",
    "    return max\n",
    "\n",
    "def schedule(jobs):\n",
    "    # Variables\n",
    "    t = []\n",
    "    for i, job in enumerate(jobs):\n",
    "        t.append([])\n",
    "        for j, _ in enumerate(job):\n",
    "            t[i].append(Int(f\"t{i}_{j}\"))\n",
    "\n",
    "    # Solver\n",
    "    opt = Optimize()\n",
    "\n",
    "    # Starting time of the task >= 0\n",
    "    for job in t:\n",
    "        for start_time in job:\n",
    "            opt.add(start_time >= 0)\n",
    "\n",
    "    # Precedence among the successive tasks of each job\n",
    "    for i, job in enumerate(t):\n",
    "        for j, (prev, succ) in enumerate(zip(job[:-1], job[1:])):\n",
    "            opt.add(prev + jobs[i][j][1] <= succ)\n",
    "\n",
    "    # Machines can only execute one task at a time\n",
    "    machine_ctrs = {}\n",
    "    for job in jobs:\n",
    "        for task in job:\n",
    "            machine_ctrs[task[0]] = []\n",
    "\n",
    "    all_tasks = [task for i, job in enumerate(jobs) for task in zip(t[i], job)]\n",
    "    for (t1, task1), (t2, task2) in combinations(all_tasks, 2):\n",
    "        if task1[0] == task2[0]:\n",
    "            machine_ctrs[task1[0]].append(Or(t1 + task1[1] <= t2, t2 + task2[1] <= t1))\n",
    "\n",
    "    for ctrs_list in machine_ctrs.values():\n",
    "        opt.add(And(ctrs_list))\n",
    "\n",
    "    # Objective\n",
    "    last_tasks = [start_list[-1] + job[-1][1] for job, start_list in zip(jobs, t)]\n",
    "    makespan = Int('makespan')\n",
    "    opt.add(makespan <= sum([task[1] for job in jobs for task in job])) # upper bound\n",
    "    objective = makespan == max_z3(last_tasks)\n",
    "    opt.add(objective)\n",
    "    opt.minimize(makespan)\n",
    "\n",
    "    opt.check()\n",
    "    m = opt.model()\n",
    "    sol = []\n",
    "    for i, job in enumerate(jobs):\n",
    "        for j, task in enumerate(job):\n",
    "            start_time = int(m.evaluate(t[i][j]).as_string())\n",
    "            sol.append({\n",
    "                'job': i,\n",
    "                'machine': task[0],\n",
    "                'duration': task[1],\n",
    "                'start': start_time,\n",
    "                'finish': start_time + task[1]\n",
    "            })\n",
    "    return sol"
   ]
  },
  {
   "cell_type": "code",
   "execution_count": 11,
   "id": "94b9c528",
   "metadata": {
    "pycharm": {
     "name": "#%%\n"
    }
   },
   "outputs": [
    {
     "data": {
      "image/png": "[encoded data removed]",
      "text/plain": [
       "<Figure size 576x288 with 1 Axes>"
      ]
     },
     "metadata": {
      "needs_background": "light"
     },
     "output_type": "display_data"
    }
   ],
   "source": [
    "j0 = [(0,3), (1,2), (2,2)]\n",
    "j1 = [(0,2), (2,1), (1,4)]\n",
    "j2 = [(1,4), (2,3)]\n",
    "\n",
    "display_scheduling(schedule([j0, j1, j2]))"
   ]
  }
 ],
 "metadata": {
  "kernelspec": {
   "display_name": "Python 3 (ipykernel)",
   "language": "python",
   "name": "python3"
  },
  "language_info": {
   "codemirror_mode": {
    "name": "ipython",
    "version": 3
   },
   "file_extension": ".py",
   "mimetype": "text/x-python",
   "name": "python",
   "nbconvert_exporter": "python",
   "pygments_lexer": "ipython3",
   "version": "3.9.7"
  }
 },
 "nbformat": 4,
 "nbformat_minor": 5
}
